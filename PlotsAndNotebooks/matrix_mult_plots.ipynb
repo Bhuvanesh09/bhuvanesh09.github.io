{
 "cells": [
  {
   "cell_type": "code",
   "execution_count": 50,
   "metadata": {},
   "outputs": [
    {
     "name": "stdout",
     "output_type": "stream",
     "text": [
      "Looking in indexes: https://pypi.org/simple, https://pypi.ngc.nvidia.com\n",
      "Collecting chart_studio\n",
      "  Downloading chart_studio-1.1.0-py3-none-any.whl.metadata (1.3 kB)\n",
      "Requirement already satisfied: plotly in /Users/bhuvanesh.sridharan/anaconda3/envs/manimenv/lib/python3.10/site-packages (from chart_studio) (5.24.1)\n",
      "Collecting requests (from chart_studio)\n",
      "  Downloading requests-2.32.3-py3-none-any.whl.metadata (4.6 kB)\n",
      "Collecting retrying>=1.3.3 (from chart_studio)\n",
      "  Downloading retrying-1.3.4-py3-none-any.whl.metadata (6.9 kB)\n",
      "Requirement already satisfied: six in /Users/bhuvanesh.sridharan/anaconda3/envs/manimenv/lib/python3.10/site-packages (from chart_studio) (1.17.0)\n",
      "Requirement already satisfied: tenacity>=6.2.0 in /Users/bhuvanesh.sridharan/anaconda3/envs/manimenv/lib/python3.10/site-packages (from plotly->chart_studio) (9.0.0)\n",
      "Requirement already satisfied: packaging in /Users/bhuvanesh.sridharan/anaconda3/envs/manimenv/lib/python3.10/site-packages (from plotly->chart_studio) (24.2)\n",
      "Collecting charset-normalizer<4,>=2 (from requests->chart_studio)\n",
      "  Downloading charset_normalizer-3.4.1-cp310-cp310-macosx_10_9_universal2.whl.metadata (35 kB)\n",
      "Collecting idna<4,>=2.5 (from requests->chart_studio)\n",
      "  Downloading idna-3.10-py3-none-any.whl.metadata (10 kB)\n",
      "Collecting urllib3<3,>=1.21.1 (from requests->chart_studio)\n",
      "  Downloading urllib3-2.3.0-py3-none-any.whl.metadata (6.5 kB)\n",
      "Collecting certifi>=2017.4.17 (from requests->chart_studio)\n",
      "  Downloading certifi-2024.12.14-py3-none-any.whl.metadata (2.3 kB)\n",
      "Downloading chart_studio-1.1.0-py3-none-any.whl (64 kB)\n",
      "Downloading retrying-1.3.4-py3-none-any.whl (11 kB)\n",
      "Downloading requests-2.32.3-py3-none-any.whl (64 kB)\n",
      "Downloading certifi-2024.12.14-py3-none-any.whl (164 kB)\n",
      "Downloading charset_normalizer-3.4.1-cp310-cp310-macosx_10_9_universal2.whl (198 kB)\n",
      "Downloading idna-3.10-py3-none-any.whl (70 kB)\n",
      "Downloading urllib3-2.3.0-py3-none-any.whl (128 kB)\n",
      "Installing collected packages: urllib3, retrying, idna, charset-normalizer, certifi, requests, chart_studio\n",
      "Successfully installed certifi-2024.12.14 charset-normalizer-3.4.1 chart_studio-1.1.0 idna-3.10 requests-2.32.3 retrying-1.3.4 urllib3-2.3.0\n"
     ]
    }
   ],
   "source": [
    "!pip install chart_studio"
   ]
  },
  {
   "cell_type": "code",
   "execution_count": null,
   "metadata": {},
   "outputs": [],
   "source": [
    "import chart_studio.plotly as py\n",
    "import chart_studio"
   ]
  },
  {
   "cell_type": "code",
   "execution_count": 3,
   "metadata": {},
   "outputs": [
    {
     "data": {
      "application/vnd.plotly.v1+json": {
       "config": {
        "plotlyServerURL": "https://plotly.com"
       },
       "data": [
        {
         "line": {
          "color": "#4A90C0"
         },
         "mode": "lines+markers",
         "name": "Inner Product (BLOCKSIZE 512)",
         "type": "scatter",
         "x": [
          16,
          32,
          64,
          128,
          256,
          512
         ],
         "xaxis": "x",
         "y": [
          0.10752,
          0.39936,
          1.728512,
          8.3968,
          35.883007,
          182.931458
         ],
         "yaxis": "y"
        },
        {
         "line": {
          "color": "#FFA54F"
         },
         "mode": "lines+markers",
         "name": "Outer Product (BLOCKSIZE 512)",
         "type": "scatter",
         "x": [
          16,
          32,
          64,
          128,
          256,
          512
         ],
         "xaxis": "x2",
         "y": [
          1.270784,
          2.404352,
          4.672512,
          9.216,
          18.354176,
          36.707329
         ],
         "yaxis": "y2"
        },
        {
         "line": {
          "color": "#80b1d3",
          "dash": "longdash"
         },
         "mode": "lines+markers",
         "name": "Inner Product (BLOCKSIZE 256)",
         "type": "scatter",
         "x": [
          16,
          32,
          64,
          128,
          256
         ],
         "xaxis": "x",
         "y": [
          0.093184,
          0.354304,
          1.54624,
          6.20544,
          34.075649
         ],
         "yaxis": "y"
        },
        {
         "line": {
          "color": "#ffc084",
          "dash": "longdash"
         },
         "mode": "lines+markers",
         "name": "Outer Product (BLOCKSIZE 256)",
         "type": "scatter",
         "x": [
          16,
          32,
          64,
          128,
          256
         ],
         "xaxis": "x2",
         "y": [
          0.26112,
          0.49152,
          0.954368,
          1.888256,
          3.825664
         ],
         "yaxis": "y2"
        },
        {
         "line": {
          "color": "#80b1d3",
          "dash": "dash"
         },
         "mode": "lines+markers",
         "name": "Inner Product (BLOCKSIZE 128)",
         "type": "scatter",
         "x": [
          16,
          32,
          64,
          128
         ],
         "y": [
          0.088064,
          0.349184,
          1.3568,
          6.07744
         ]
        },
        {
         "line": {
          "color": "#ffc084",
          "dash": "dash"
         },
         "mode": "lines+markers",
         "name": "Outer Product (BLOCKSIZE 128)",
         "type": "scatter",
         "x": [
          16,
          32,
          64,
          128
         ],
         "xaxis": "x2",
         "y": [
          0.0256,
          0.036864,
          0.062464,
          0.114688
         ],
         "yaxis": "y2"
        }
       ],
       "layout": {
        "font": {
         "color": "#7f7f7f",
         "family": "Open Sans"
        },
        "height": 400,
        "legend": {
         "bgcolor": "#FAF8F1",
         "x": 0,
         "y": 1
        },
        "margin": {
         "b": 40,
         "l": 40,
         "pad": 1,
         "r": 40,
         "t": 40
        },
        "paper_bgcolor": "#FAF8F1",
        "plot_bgcolor": "#FAF8F1",
        "template": {
         "data": {
          "bar": [
           {
            "error_x": {
             "color": "#2a3f5f"
            },
            "error_y": {
             "color": "#2a3f5f"
            },
            "marker": {
             "line": {
              "color": "#E5ECF6",
              "width": 0.5
             },
             "pattern": {
              "fillmode": "overlay",
              "size": 10,
              "solidity": 0.2
             }
            },
            "type": "bar"
           }
          ],
          "barpolar": [
           {
            "marker": {
             "line": {
              "color": "#E5ECF6",
              "width": 0.5
             },
             "pattern": {
              "fillmode": "overlay",
              "size": 10,
              "solidity": 0.2
             }
            },
            "type": "barpolar"
           }
          ],
          "carpet": [
           {
            "aaxis": {
             "endlinecolor": "#2a3f5f",
             "gridcolor": "white",
             "linecolor": "white",
             "minorgridcolor": "white",
             "startlinecolor": "#2a3f5f"
            },
            "baxis": {
             "endlinecolor": "#2a3f5f",
             "gridcolor": "white",
             "linecolor": "white",
             "minorgridcolor": "white",
             "startlinecolor": "#2a3f5f"
            },
            "type": "carpet"
           }
          ],
          "choropleth": [
           {
            "colorbar": {
             "outlinewidth": 0,
             "ticks": ""
            },
            "type": "choropleth"
           }
          ],
          "contour": [
           {
            "colorbar": {
             "outlinewidth": 0,
             "ticks": ""
            },
            "colorscale": [
             [
              0,
              "#0d0887"
             ],
             [
              0.1111111111111111,
              "#46039f"
             ],
             [
              0.2222222222222222,
              "#7201a8"
             ],
             [
              0.3333333333333333,
              "#9c179e"
             ],
             [
              0.4444444444444444,
              "#bd3786"
             ],
             [
              0.5555555555555556,
              "#d8576b"
             ],
             [
              0.6666666666666666,
              "#ed7953"
             ],
             [
              0.7777777777777778,
              "#fb9f3a"
             ],
             [
              0.8888888888888888,
              "#fdca26"
             ],
             [
              1,
              "#f0f921"
             ]
            ],
            "type": "contour"
           }
          ],
          "contourcarpet": [
           {
            "colorbar": {
             "outlinewidth": 0,
             "ticks": ""
            },
            "type": "contourcarpet"
           }
          ],
          "heatmap": [
           {
            "colorbar": {
             "outlinewidth": 0,
             "ticks": ""
            },
            "colorscale": [
             [
              0,
              "#0d0887"
             ],
             [
              0.1111111111111111,
              "#46039f"
             ],
             [
              0.2222222222222222,
              "#7201a8"
             ],
             [
              0.3333333333333333,
              "#9c179e"
             ],
             [
              0.4444444444444444,
              "#bd3786"
             ],
             [
              0.5555555555555556,
              "#d8576b"
             ],
             [
              0.6666666666666666,
              "#ed7953"
             ],
             [
              0.7777777777777778,
              "#fb9f3a"
             ],
             [
              0.8888888888888888,
              "#fdca26"
             ],
             [
              1,
              "#f0f921"
             ]
            ],
            "type": "heatmap"
           }
          ],
          "heatmapgl": [
           {
            "colorbar": {
             "outlinewidth": 0,
             "ticks": ""
            },
            "colorscale": [
             [
              0,
              "#0d0887"
             ],
             [
              0.1111111111111111,
              "#46039f"
             ],
             [
              0.2222222222222222,
              "#7201a8"
             ],
             [
              0.3333333333333333,
              "#9c179e"
             ],
             [
              0.4444444444444444,
              "#bd3786"
             ],
             [
              0.5555555555555556,
              "#d8576b"
             ],
             [
              0.6666666666666666,
              "#ed7953"
             ],
             [
              0.7777777777777778,
              "#fb9f3a"
             ],
             [
              0.8888888888888888,
              "#fdca26"
             ],
             [
              1,
              "#f0f921"
             ]
            ],
            "type": "heatmapgl"
           }
          ],
          "histogram": [
           {
            "marker": {
             "pattern": {
              "fillmode": "overlay",
              "size": 10,
              "solidity": 0.2
             }
            },
            "type": "histogram"
           }
          ],
          "histogram2d": [
           {
            "colorbar": {
             "outlinewidth": 0,
             "ticks": ""
            },
            "colorscale": [
             [
              0,
              "#0d0887"
             ],
             [
              0.1111111111111111,
              "#46039f"
             ],
             [
              0.2222222222222222,
              "#7201a8"
             ],
             [
              0.3333333333333333,
              "#9c179e"
             ],
             [
              0.4444444444444444,
              "#bd3786"
             ],
             [
              0.5555555555555556,
              "#d8576b"
             ],
             [
              0.6666666666666666,
              "#ed7953"
             ],
             [
              0.7777777777777778,
              "#fb9f3a"
             ],
             [
              0.8888888888888888,
              "#fdca26"
             ],
             [
              1,
              "#f0f921"
             ]
            ],
            "type": "histogram2d"
           }
          ],
          "histogram2dcontour": [
           {
            "colorbar": {
             "outlinewidth": 0,
             "ticks": ""
            },
            "colorscale": [
             [
              0,
              "#0d0887"
             ],
             [
              0.1111111111111111,
              "#46039f"
             ],
             [
              0.2222222222222222,
              "#7201a8"
             ],
             [
              0.3333333333333333,
              "#9c179e"
             ],
             [
              0.4444444444444444,
              "#bd3786"
             ],
             [
              0.5555555555555556,
              "#d8576b"
             ],
             [
              0.6666666666666666,
              "#ed7953"
             ],
             [
              0.7777777777777778,
              "#fb9f3a"
             ],
             [
              0.8888888888888888,
              "#fdca26"
             ],
             [
              1,
              "#f0f921"
             ]
            ],
            "type": "histogram2dcontour"
           }
          ],
          "mesh3d": [
           {
            "colorbar": {
             "outlinewidth": 0,
             "ticks": ""
            },
            "type": "mesh3d"
           }
          ],
          "parcoords": [
           {
            "line": {
             "colorbar": {
              "outlinewidth": 0,
              "ticks": ""
             }
            },
            "type": "parcoords"
           }
          ],
          "pie": [
           {
            "automargin": true,
            "type": "pie"
           }
          ],
          "scatter": [
           {
            "fillpattern": {
             "fillmode": "overlay",
             "size": 10,
             "solidity": 0.2
            },
            "type": "scatter"
           }
          ],
          "scatter3d": [
           {
            "line": {
             "colorbar": {
              "outlinewidth": 0,
              "ticks": ""
             }
            },
            "marker": {
             "colorbar": {
              "outlinewidth": 0,
              "ticks": ""
             }
            },
            "type": "scatter3d"
           }
          ],
          "scattercarpet": [
           {
            "marker": {
             "colorbar": {
              "outlinewidth": 0,
              "ticks": ""
             }
            },
            "type": "scattercarpet"
           }
          ],
          "scattergeo": [
           {
            "marker": {
             "colorbar": {
              "outlinewidth": 0,
              "ticks": ""
             }
            },
            "type": "scattergeo"
           }
          ],
          "scattergl": [
           {
            "marker": {
             "colorbar": {
              "outlinewidth": 0,
              "ticks": ""
             }
            },
            "type": "scattergl"
           }
          ],
          "scattermapbox": [
           {
            "marker": {
             "colorbar": {
              "outlinewidth": 0,
              "ticks": ""
             }
            },
            "type": "scattermapbox"
           }
          ],
          "scatterpolar": [
           {
            "marker": {
             "colorbar": {
              "outlinewidth": 0,
              "ticks": ""
             }
            },
            "type": "scatterpolar"
           }
          ],
          "scatterpolargl": [
           {
            "marker": {
             "colorbar": {
              "outlinewidth": 0,
              "ticks": ""
             }
            },
            "type": "scatterpolargl"
           }
          ],
          "scatterternary": [
           {
            "marker": {
             "colorbar": {
              "outlinewidth": 0,
              "ticks": ""
             }
            },
            "type": "scatterternary"
           }
          ],
          "surface": [
           {
            "colorbar": {
             "outlinewidth": 0,
             "ticks": ""
            },
            "colorscale": [
             [
              0,
              "#0d0887"
             ],
             [
              0.1111111111111111,
              "#46039f"
             ],
             [
              0.2222222222222222,
              "#7201a8"
             ],
             [
              0.3333333333333333,
              "#9c179e"
             ],
             [
              0.4444444444444444,
              "#bd3786"
             ],
             [
              0.5555555555555556,
              "#d8576b"
             ],
             [
              0.6666666666666666,
              "#ed7953"
             ],
             [
              0.7777777777777778,
              "#fb9f3a"
             ],
             [
              0.8888888888888888,
              "#fdca26"
             ],
             [
              1,
              "#f0f921"
             ]
            ],
            "type": "surface"
           }
          ],
          "table": [
           {
            "cells": {
             "fill": {
              "color": "#EBF0F8"
             },
             "line": {
              "color": "white"
             }
            },
            "header": {
             "fill": {
              "color": "#C8D4E3"
             },
             "line": {
              "color": "white"
             }
            },
            "type": "table"
           }
          ]
         },
         "layout": {
          "annotationdefaults": {
           "arrowcolor": "#2a3f5f",
           "arrowhead": 0,
           "arrowwidth": 1
          },
          "autotypenumbers": "strict",
          "coloraxis": {
           "colorbar": {
            "outlinewidth": 0,
            "ticks": ""
           }
          },
          "colorscale": {
           "diverging": [
            [
             0,
             "#8e0152"
            ],
            [
             0.1,
             "#c51b7d"
            ],
            [
             0.2,
             "#de77ae"
            ],
            [
             0.3,
             "#f1b6da"
            ],
            [
             0.4,
             "#fde0ef"
            ],
            [
             0.5,
             "#f7f7f7"
            ],
            [
             0.6,
             "#e6f5d0"
            ],
            [
             0.7,
             "#b8e186"
            ],
            [
             0.8,
             "#7fbc41"
            ],
            [
             0.9,
             "#4d9221"
            ],
            [
             1,
             "#276419"
            ]
           ],
           "sequential": [
            [
             0,
             "#0d0887"
            ],
            [
             0.1111111111111111,
             "#46039f"
            ],
            [
             0.2222222222222222,
             "#7201a8"
            ],
            [
             0.3333333333333333,
             "#9c179e"
            ],
            [
             0.4444444444444444,
             "#bd3786"
            ],
            [
             0.5555555555555556,
             "#d8576b"
            ],
            [
             0.6666666666666666,
             "#ed7953"
            ],
            [
             0.7777777777777778,
             "#fb9f3a"
            ],
            [
             0.8888888888888888,
             "#fdca26"
            ],
            [
             1,
             "#f0f921"
            ]
           ],
           "sequentialminus": [
            [
             0,
             "#0d0887"
            ],
            [
             0.1111111111111111,
             "#46039f"
            ],
            [
             0.2222222222222222,
             "#7201a8"
            ],
            [
             0.3333333333333333,
             "#9c179e"
            ],
            [
             0.4444444444444444,
             "#bd3786"
            ],
            [
             0.5555555555555556,
             "#d8576b"
            ],
            [
             0.6666666666666666,
             "#ed7953"
            ],
            [
             0.7777777777777778,
             "#fb9f3a"
            ],
            [
             0.8888888888888888,
             "#fdca26"
            ],
            [
             1,
             "#f0f921"
            ]
           ]
          },
          "colorway": [
           "#636efa",
           "#EF553B",
           "#00cc96",
           "#ab63fa",
           "#FFA15A",
           "#19d3f3",
           "#FF6692",
           "#B6E880",
           "#FF97FF",
           "#FECB52"
          ],
          "font": {
           "color": "#2a3f5f"
          },
          "geo": {
           "bgcolor": "white",
           "lakecolor": "white",
           "landcolor": "#E5ECF6",
           "showlakes": true,
           "showland": true,
           "subunitcolor": "white"
          },
          "hoverlabel": {
           "align": "left"
          },
          "hovermode": "closest",
          "mapbox": {
           "style": "light"
          },
          "paper_bgcolor": "white",
          "plot_bgcolor": "#E5ECF6",
          "polar": {
           "angularaxis": {
            "gridcolor": "white",
            "linecolor": "white",
            "ticks": ""
           },
           "bgcolor": "#E5ECF6",
           "radialaxis": {
            "gridcolor": "white",
            "linecolor": "white",
            "ticks": ""
           }
          },
          "scene": {
           "xaxis": {
            "backgroundcolor": "#E5ECF6",
            "gridcolor": "white",
            "gridwidth": 2,
            "linecolor": "white",
            "showbackground": true,
            "ticks": "",
            "zerolinecolor": "white"
           },
           "yaxis": {
            "backgroundcolor": "#E5ECF6",
            "gridcolor": "white",
            "gridwidth": 2,
            "linecolor": "white",
            "showbackground": true,
            "ticks": "",
            "zerolinecolor": "white"
           },
           "zaxis": {
            "backgroundcolor": "#E5ECF6",
            "gridcolor": "white",
            "gridwidth": 2,
            "linecolor": "white",
            "showbackground": true,
            "ticks": "",
            "zerolinecolor": "white"
           }
          },
          "shapedefaults": {
           "line": {
            "color": "#2a3f5f"
           }
          },
          "ternary": {
           "aaxis": {
            "gridcolor": "white",
            "linecolor": "white",
            "ticks": ""
           },
           "baxis": {
            "gridcolor": "white",
            "linecolor": "white",
            "ticks": ""
           },
           "bgcolor": "#E5ECF6",
           "caxis": {
            "gridcolor": "white",
            "linecolor": "white",
            "ticks": ""
           }
          },
          "title": {
           "x": 0.05
          },
          "xaxis": {
           "automargin": true,
           "gridcolor": "white",
           "linecolor": "white",
           "ticks": "",
           "title": {
            "standoff": 15
           },
           "zerolinecolor": "white",
           "zerolinewidth": 2
          },
          "yaxis": {
           "automargin": true,
           "gridcolor": "white",
           "linecolor": "white",
           "ticks": "",
           "title": {
            "standoff": 15
           },
           "zerolinecolor": "white",
           "zerolinewidth": 2
          }
         }
        },
        "width": 900,
        "xaxis": {
         "anchor": "y",
         "domain": [
          0,
          0.45
         ],
         "gridcolor": "#E0E0E0",
         "title": {
          "text": "Size"
         },
         "type": "log"
        },
        "xaxis2": {
         "anchor": "y2",
         "domain": [
          0.55,
          1
         ],
         "gridcolor": "#E0E0E0",
         "title": {
          "text": "Size"
         },
         "type": "log"
        },
        "yaxis": {
         "anchor": "x",
         "domain": [
          0,
          1
         ],
         "gridcolor": "#E0E0E0",
         "title": {
          "text": "Time (ms)"
         },
         "type": "log"
        },
        "yaxis2": {
         "anchor": "x2",
         "domain": [
          0,
          1
         ],
         "gridcolor": "#E0E0E0",
         "matches": "y",
         "showticklabels": false,
         "type": "log"
        }
       }
      }
     },
     "metadata": {},
     "output_type": "display_data"
    }
   ],
   "source": [
    "import plotly.graph_objects as go\n",
    "from plotly.subplots import make_subplots\n",
    "\n",
    "# Data for BLOCKSIZE 512\n",
    "size_512 = [16.0, 32.0, 64.0, 128.0, 256.0, 512.0]\n",
    "inner_product_512 = [0.107520, 0.399360, 1.728512, 8.396800, 35.883007, 182.931458]\n",
    "outer_product_512 = [1.270784, 2.404352, 4.672512, 9.216000, 18.354176, 36.707329]\n",
    "\n",
    "# Data for BLOCKSIZE 256\n",
    "size_256 = [16.0, 32.0, 64.0, 128.0, 256.0]\n",
    "inner_product_256 = [0.093184, 0.354304, 1.546240, 6.205440, 34.075649]\n",
    "outer_product_256 = [0.261120, 0.491520, 0.954368, 1.888256, 3.825664]\n",
    "\n",
    "# Data for BLOCKSIZE 128\n",
    "size_128 = [16.0, 32.0, 64.0, 128.0]\n",
    "inner_product_128 = [0.088064, 0.349184, 1.356800, 6.077440]\n",
    "outer_product_128 = [0.025600, 0.036864, 0.062464, 0.114688]\n",
    "\n",
    "# Create the figure\n",
    "# fig = go.Figure()\n",
    "fig = make_subplots(rows = 1, cols=2, shared_yaxes=True)\n",
    "\n",
    "# Add traces for BLOCKSIZE 512\n",
    "fig.add_trace(go.Scatter(x=size_512, y=inner_product_512,\n",
    "                         mode='lines+markers',\n",
    "                         name='Inner Product (BLOCKSIZE 512)',\n",
    "                         line=dict(color='#4A90C0')),\n",
    "                         row=1, col=1)\n",
    "fig.add_trace(go.Scatter(x=size_512, y=outer_product_512,\n",
    "                         mode='lines+markers',\n",
    "                         name='Outer Product (BLOCKSIZE 512)',\n",
    "                         line=dict(color='#FFA54F')),\n",
    "                         row=1, col=2)\n",
    "\n",
    "# Add traces for BLOCKSIZE 256\n",
    "fig.add_trace(go.Scatter(x=size_256, y=inner_product_256,\n",
    "                         mode='lines+markers',\n",
    "                         name='Inner Product (BLOCKSIZE 256)',\n",
    "                         line=dict(color='#80b1d3', dash=\"longdash\")),\n",
    "                         row=1, col=1)\n",
    "fig.add_trace(go.Scatter(x=size_256, y=outer_product_256,\n",
    "                         mode='lines+markers',\n",
    "                         name='Outer Product (BLOCKSIZE 256)',\n",
    "                         line=dict(color='#ffc084', dash=\"longdash\")),\n",
    "                         row=1, col=2)\n",
    "\n",
    "# Add traces for BLOCKSIZE 256\n",
    "fig.add_trace(go.Scatter(x=size_128, y=inner_product_128,\n",
    "                         mode='lines+markers',\n",
    "                         name='Inner Product (BLOCKSIZE 128)',\n",
    "                         line=dict(color='#80b1d3', dash=\"dash\"))),\n",
    "fig.add_trace(go.Scatter(x=size_128, y=outer_product_128,\n",
    "                         mode='lines+markers',\n",
    "                         name='Outer Product (BLOCKSIZE 128)',\n",
    "                         line=dict(color='#ffc084', dash=\"dash\")),\n",
    "                         row=1, col=2)\n",
    "# Update layout\n",
    "fig.update_layout(\n",
    "    # title=\"Comparison of Inner and Outer Products for BLOCKSIZE 512 and 256\",\n",
    "    width=900,\n",
    "    height=400,\n",
    "    margin=dict(\n",
    "        l=40,\n",
    "        r=40,\n",
    "        b=40,\n",
    "        t=40,\n",
    "        pad=1\n",
    "    ),\n",
    "    font=dict(\n",
    "        family=\"Open Sans\",\n",
    "        color=\"#7f7f7f\"\n",
    "\n",
    "    ),\n",
    "    xaxis=dict(\n",
    "        title=\"Size\",\n",
    "        type=\"log\",\n",
    "        gridcolor=\"#E0E0E0\"\n",
    "    ),\n",
    "    yaxis=dict(\n",
    "        title=\"Time (ms)\",\n",
    "        type=\"log\",\n",
    "        gridcolor=\"#E0E0E0\"\n",
    "    ),\n",
    "    plot_bgcolor=\"#FAF8F1\",\n",
    "    paper_bgcolor=\"#FAF8F1\",\n",
    "    legend=dict(\n",
    "\n",
    "        bgcolor=\"#FAF8F1\",\n",
    "        x=0.0,\n",
    "        y=1.0\n",
    "    )\n",
    ")\n",
    "fig.update_xaxes(title=\"Size\", type=\"log\", gridcolor=\"#E0E0E0\", row=1, col=1)\n",
    "fig.update_xaxes(title=\"Size\", type=\"log\", gridcolor=\"#E0E0E0\", row=1, col=2)\n",
    "fig.update_yaxes(title=\"Time (ms)\", type=\"log\", gridcolor=\"#E0E0E0\", row=1, col=1)\n",
    "fig.update_yaxes( type=\"log\", gridcolor=\"#E0E0E0\", row=1, col=2)\n",
    "# Show the figure\n",
    "fig.show()\n"
   ]
  },
  {
   "cell_type": "code",
   "execution_count": 4,
   "metadata": {},
   "outputs": [
    {
     "name": "stdout",
     "output_type": "stream",
     "text": [
      "Looking in indexes: https://pypi.org/simple, https://pypi.ngc.nvidia.com\n",
      "Collecting nbformat\n",
      "  Downloading nbformat-5.10.4-py3-none-any.whl.metadata (3.6 kB)\n",
      "Collecting fastjsonschema>=2.15 (from nbformat)\n",
      "  Downloading fastjsonschema-2.21.1-py3-none-any.whl.metadata (2.2 kB)\n",
      "Collecting jsonschema>=2.6 (from nbformat)\n",
      "  Downloading jsonschema-4.23.0-py3-none-any.whl.metadata (7.9 kB)\n",
      "Requirement already satisfied: jupyter-core!=5.0.*,>=4.12 in /Users/bhuvanesh.sridharan/anaconda3/envs/manimenv/lib/python3.10/site-packages (from nbformat) (5.7.2)\n",
      "Requirement already satisfied: traitlets>=5.1 in /Users/bhuvanesh.sridharan/anaconda3/envs/manimenv/lib/python3.10/site-packages (from nbformat) (5.14.3)\n",
      "Collecting attrs>=22.2.0 (from jsonschema>=2.6->nbformat)\n",
      "  Downloading attrs-24.3.0-py3-none-any.whl.metadata (11 kB)\n",
      "Collecting jsonschema-specifications>=2023.03.6 (from jsonschema>=2.6->nbformat)\n",
      "  Downloading jsonschema_specifications-2024.10.1-py3-none-any.whl.metadata (3.0 kB)\n",
      "Collecting referencing>=0.28.4 (from jsonschema>=2.6->nbformat)\n",
      "  Downloading referencing-0.35.1-py3-none-any.whl.metadata (2.8 kB)\n",
      "Collecting rpds-py>=0.7.1 (from jsonschema>=2.6->nbformat)\n",
      "  Downloading rpds_py-0.22.3-cp310-cp310-macosx_11_0_arm64.whl.metadata (4.2 kB)\n",
      "Requirement already satisfied: platformdirs>=2.5 in /Users/bhuvanesh.sridharan/anaconda3/envs/manimenv/lib/python3.10/site-packages (from jupyter-core!=5.0.*,>=4.12->nbformat) (4.3.6)\n",
      "Downloading nbformat-5.10.4-py3-none-any.whl (78 kB)\n",
      "Downloading fastjsonschema-2.21.1-py3-none-any.whl (23 kB)\n",
      "Downloading jsonschema-4.23.0-py3-none-any.whl (88 kB)\n",
      "Downloading attrs-24.3.0-py3-none-any.whl (63 kB)\n",
      "Downloading jsonschema_specifications-2024.10.1-py3-none-any.whl (18 kB)\n",
      "Downloading referencing-0.35.1-py3-none-any.whl (26 kB)\n",
      "Downloading rpds_py-0.22.3-cp310-cp310-macosx_11_0_arm64.whl (349 kB)\n",
      "Installing collected packages: fastjsonschema, rpds-py, attrs, referencing, jsonschema-specifications, jsonschema, nbformat\n",
      "Successfully installed attrs-24.3.0 fastjsonschema-2.21.1 jsonschema-4.23.0 jsonschema-specifications-2024.10.1 nbformat-5.10.4 referencing-0.35.1 rpds-py-0.22.3\n"
     ]
    }
   ],
   "source": [
    "!pip install nbformat"
   ]
  },
  {
   "cell_type": "code",
   "execution_count": 4,
   "metadata": {},
   "outputs": [
    {
     "data": {
      "application/vnd.plotly.v1+json": {
       "config": {
        "plotlyServerURL": "https://plotly.com"
       },
       "data": [
        {
         "line": {
          "color": "#4A90C0"
         },
         "mode": "lines+markers",
         "name": "Inner Product (BLOCKSIZE 512)",
         "type": "scatter",
         "x": [
          16,
          32,
          64,
          128,
          256,
          512
         ],
         "y": [
          0.10752,
          0.39936,
          1.728512,
          8.3968,
          35.883007,
          182.931458
         ]
        },
        {
         "line": {
          "color": "#FFA54F"
         },
         "mode": "lines+markers",
         "name": "Outer Product (BLOCKSIZE 512)",
         "type": "scatter",
         "x": [
          16,
          32,
          64,
          128,
          256,
          512
         ],
         "y": [
          1.270784,
          2.404352,
          4.672512,
          9.216,
          18.354176,
          36.707329
         ]
        },
        {
         "line": {
          "color": "#9370DB"
         },
         "mode": "lines+markers",
         "name": "Inner Product (BLOCKSIZE 256)",
         "type": "scatter",
         "x": [
          16,
          32,
          64,
          128,
          256
         ],
         "y": [
          0.093184,
          0.354304,
          1.54624,
          6.20544,
          34.075649
         ]
        },
        {
         "line": {
          "color": "#66CDAA"
         },
         "mode": "lines+markers",
         "name": "Outer Product (BLOCKSIZE 256)",
         "type": "scatter",
         "x": [
          16,
          32,
          64,
          128,
          256
         ],
         "y": [
          0.26112,
          0.49152,
          0.954368,
          1.888256,
          3.825664
         ]
        },
        {
         "line": {
          "color": "#CD5C5C"
         },
         "mode": "lines+markers",
         "name": "Inner Product (BLOCKSIZE 128)",
         "type": "scatter",
         "x": [
          16,
          32,
          64,
          128
         ],
         "y": [
          0.088064,
          0.349184,
          1.3568,
          6.07744
         ]
        },
        {
         "line": {
          "color": "#FFA54F",
          "dash": "dash"
         },
         "mode": "lines+markers",
         "name": "Outer Product (BLOCKSIZE 128)",
         "type": "scatter",
         "x": [
          16,
          32,
          64,
          128
         ],
         "y": [
          0.0256,
          0.036864,
          0.062464,
          0.114688
         ]
        }
       ],
       "layout": {
        "legend": {
         "bgcolor": "#FAF8F1"
        },
        "plot_bgcolor": "#FAF8F1",
        "template": {
         "data": {
          "bar": [
           {
            "error_x": {
             "color": "#2a3f5f"
            },
            "error_y": {
             "color": "#2a3f5f"
            },
            "marker": {
             "line": {
              "color": "#E5ECF6",
              "width": 0.5
             },
             "pattern": {
              "fillmode": "overlay",
              "size": 10,
              "solidity": 0.2
             }
            },
            "type": "bar"
           }
          ],
          "barpolar": [
           {
            "marker": {
             "line": {
              "color": "#E5ECF6",
              "width": 0.5
             },
             "pattern": {
              "fillmode": "overlay",
              "size": 10,
              "solidity": 0.2
             }
            },
            "type": "barpolar"
           }
          ],
          "carpet": [
           {
            "aaxis": {
             "endlinecolor": "#2a3f5f",
             "gridcolor": "white",
             "linecolor": "white",
             "minorgridcolor": "white",
             "startlinecolor": "#2a3f5f"
            },
            "baxis": {
             "endlinecolor": "#2a3f5f",
             "gridcolor": "white",
             "linecolor": "white",
             "minorgridcolor": "white",
             "startlinecolor": "#2a3f5f"
            },
            "type": "carpet"
           }
          ],
          "choropleth": [
           {
            "colorbar": {
             "outlinewidth": 0,
             "ticks": ""
            },
            "type": "choropleth"
           }
          ],
          "contour": [
           {
            "colorbar": {
             "outlinewidth": 0,
             "ticks": ""
            },
            "colorscale": [
             [
              0,
              "#0d0887"
             ],
             [
              0.1111111111111111,
              "#46039f"
             ],
             [
              0.2222222222222222,
              "#7201a8"
             ],
             [
              0.3333333333333333,
              "#9c179e"
             ],
             [
              0.4444444444444444,
              "#bd3786"
             ],
             [
              0.5555555555555556,
              "#d8576b"
             ],
             [
              0.6666666666666666,
              "#ed7953"
             ],
             [
              0.7777777777777778,
              "#fb9f3a"
             ],
             [
              0.8888888888888888,
              "#fdca26"
             ],
             [
              1,
              "#f0f921"
             ]
            ],
            "type": "contour"
           }
          ],
          "contourcarpet": [
           {
            "colorbar": {
             "outlinewidth": 0,
             "ticks": ""
            },
            "type": "contourcarpet"
           }
          ],
          "heatmap": [
           {
            "colorbar": {
             "outlinewidth": 0,
             "ticks": ""
            },
            "colorscale": [
             [
              0,
              "#0d0887"
             ],
             [
              0.1111111111111111,
              "#46039f"
             ],
             [
              0.2222222222222222,
              "#7201a8"
             ],
             [
              0.3333333333333333,
              "#9c179e"
             ],
             [
              0.4444444444444444,
              "#bd3786"
             ],
             [
              0.5555555555555556,
              "#d8576b"
             ],
             [
              0.6666666666666666,
              "#ed7953"
             ],
             [
              0.7777777777777778,
              "#fb9f3a"
             ],
             [
              0.8888888888888888,
              "#fdca26"
             ],
             [
              1,
              "#f0f921"
             ]
            ],
            "type": "heatmap"
           }
          ],
          "heatmapgl": [
           {
            "colorbar": {
             "outlinewidth": 0,
             "ticks": ""
            },
            "colorscale": [
             [
              0,
              "#0d0887"
             ],
             [
              0.1111111111111111,
              "#46039f"
             ],
             [
              0.2222222222222222,
              "#7201a8"
             ],
             [
              0.3333333333333333,
              "#9c179e"
             ],
             [
              0.4444444444444444,
              "#bd3786"
             ],
             [
              0.5555555555555556,
              "#d8576b"
             ],
             [
              0.6666666666666666,
              "#ed7953"
             ],
             [
              0.7777777777777778,
              "#fb9f3a"
             ],
             [
              0.8888888888888888,
              "#fdca26"
             ],
             [
              1,
              "#f0f921"
             ]
            ],
            "type": "heatmapgl"
           }
          ],
          "histogram": [
           {
            "marker": {
             "pattern": {
              "fillmode": "overlay",
              "size": 10,
              "solidity": 0.2
             }
            },
            "type": "histogram"
           }
          ],
          "histogram2d": [
           {
            "colorbar": {
             "outlinewidth": 0,
             "ticks": ""
            },
            "colorscale": [
             [
              0,
              "#0d0887"
             ],
             [
              0.1111111111111111,
              "#46039f"
             ],
             [
              0.2222222222222222,
              "#7201a8"
             ],
             [
              0.3333333333333333,
              "#9c179e"
             ],
             [
              0.4444444444444444,
              "#bd3786"
             ],
             [
              0.5555555555555556,
              "#d8576b"
             ],
             [
              0.6666666666666666,
              "#ed7953"
             ],
             [
              0.7777777777777778,
              "#fb9f3a"
             ],
             [
              0.8888888888888888,
              "#fdca26"
             ],
             [
              1,
              "#f0f921"
             ]
            ],
            "type": "histogram2d"
           }
          ],
          "histogram2dcontour": [
           {
            "colorbar": {
             "outlinewidth": 0,
             "ticks": ""
            },
            "colorscale": [
             [
              0,
              "#0d0887"
             ],
             [
              0.1111111111111111,
              "#46039f"
             ],
             [
              0.2222222222222222,
              "#7201a8"
             ],
             [
              0.3333333333333333,
              "#9c179e"
             ],
             [
              0.4444444444444444,
              "#bd3786"
             ],
             [
              0.5555555555555556,
              "#d8576b"
             ],
             [
              0.6666666666666666,
              "#ed7953"
             ],
             [
              0.7777777777777778,
              "#fb9f3a"
             ],
             [
              0.8888888888888888,
              "#fdca26"
             ],
             [
              1,
              "#f0f921"
             ]
            ],
            "type": "histogram2dcontour"
           }
          ],
          "mesh3d": [
           {
            "colorbar": {
             "outlinewidth": 0,
             "ticks": ""
            },
            "type": "mesh3d"
           }
          ],
          "parcoords": [
           {
            "line": {
             "colorbar": {
              "outlinewidth": 0,
              "ticks": ""
             }
            },
            "type": "parcoords"
           }
          ],
          "pie": [
           {
            "automargin": true,
            "type": "pie"
           }
          ],
          "scatter": [
           {
            "fillpattern": {
             "fillmode": "overlay",
             "size": 10,
             "solidity": 0.2
            },
            "type": "scatter"
           }
          ],
          "scatter3d": [
           {
            "line": {
             "colorbar": {
              "outlinewidth": 0,
              "ticks": ""
             }
            },
            "marker": {
             "colorbar": {
              "outlinewidth": 0,
              "ticks": ""
             }
            },
            "type": "scatter3d"
           }
          ],
          "scattercarpet": [
           {
            "marker": {
             "colorbar": {
              "outlinewidth": 0,
              "ticks": ""
             }
            },
            "type": "scattercarpet"
           }
          ],
          "scattergeo": [
           {
            "marker": {
             "colorbar": {
              "outlinewidth": 0,
              "ticks": ""
             }
            },
            "type": "scattergeo"
           }
          ],
          "scattergl": [
           {
            "marker": {
             "colorbar": {
              "outlinewidth": 0,
              "ticks": ""
             }
            },
            "type": "scattergl"
           }
          ],
          "scattermapbox": [
           {
            "marker": {
             "colorbar": {
              "outlinewidth": 0,
              "ticks": ""
             }
            },
            "type": "scattermapbox"
           }
          ],
          "scatterpolar": [
           {
            "marker": {
             "colorbar": {
              "outlinewidth": 0,
              "ticks": ""
             }
            },
            "type": "scatterpolar"
           }
          ],
          "scatterpolargl": [
           {
            "marker": {
             "colorbar": {
              "outlinewidth": 0,
              "ticks": ""
             }
            },
            "type": "scatterpolargl"
           }
          ],
          "scatterternary": [
           {
            "marker": {
             "colorbar": {
              "outlinewidth": 0,
              "ticks": ""
             }
            },
            "type": "scatterternary"
           }
          ],
          "surface": [
           {
            "colorbar": {
             "outlinewidth": 0,
             "ticks": ""
            },
            "colorscale": [
             [
              0,
              "#0d0887"
             ],
             [
              0.1111111111111111,
              "#46039f"
             ],
             [
              0.2222222222222222,
              "#7201a8"
             ],
             [
              0.3333333333333333,
              "#9c179e"
             ],
             [
              0.4444444444444444,
              "#bd3786"
             ],
             [
              0.5555555555555556,
              "#d8576b"
             ],
             [
              0.6666666666666666,
              "#ed7953"
             ],
             [
              0.7777777777777778,
              "#fb9f3a"
             ],
             [
              0.8888888888888888,
              "#fdca26"
             ],
             [
              1,
              "#f0f921"
             ]
            ],
            "type": "surface"
           }
          ],
          "table": [
           {
            "cells": {
             "fill": {
              "color": "#EBF0F8"
             },
             "line": {
              "color": "white"
             }
            },
            "header": {
             "fill": {
              "color": "#C8D4E3"
             },
             "line": {
              "color": "white"
             }
            },
            "type": "table"
           }
          ]
         },
         "layout": {
          "annotationdefaults": {
           "arrowcolor": "#2a3f5f",
           "arrowhead": 0,
           "arrowwidth": 1
          },
          "autotypenumbers": "strict",
          "coloraxis": {
           "colorbar": {
            "outlinewidth": 0,
            "ticks": ""
           }
          },
          "colorscale": {
           "diverging": [
            [
             0,
             "#8e0152"
            ],
            [
             0.1,
             "#c51b7d"
            ],
            [
             0.2,
             "#de77ae"
            ],
            [
             0.3,
             "#f1b6da"
            ],
            [
             0.4,
             "#fde0ef"
            ],
            [
             0.5,
             "#f7f7f7"
            ],
            [
             0.6,
             "#e6f5d0"
            ],
            [
             0.7,
             "#b8e186"
            ],
            [
             0.8,
             "#7fbc41"
            ],
            [
             0.9,
             "#4d9221"
            ],
            [
             1,
             "#276419"
            ]
           ],
           "sequential": [
            [
             0,
             "#0d0887"
            ],
            [
             0.1111111111111111,
             "#46039f"
            ],
            [
             0.2222222222222222,
             "#7201a8"
            ],
            [
             0.3333333333333333,
             "#9c179e"
            ],
            [
             0.4444444444444444,
             "#bd3786"
            ],
            [
             0.5555555555555556,
             "#d8576b"
            ],
            [
             0.6666666666666666,
             "#ed7953"
            ],
            [
             0.7777777777777778,
             "#fb9f3a"
            ],
            [
             0.8888888888888888,
             "#fdca26"
            ],
            [
             1,
             "#f0f921"
            ]
           ],
           "sequentialminus": [
            [
             0,
             "#0d0887"
            ],
            [
             0.1111111111111111,
             "#46039f"
            ],
            [
             0.2222222222222222,
             "#7201a8"
            ],
            [
             0.3333333333333333,
             "#9c179e"
            ],
            [
             0.4444444444444444,
             "#bd3786"
            ],
            [
             0.5555555555555556,
             "#d8576b"
            ],
            [
             0.6666666666666666,
             "#ed7953"
            ],
            [
             0.7777777777777778,
             "#fb9f3a"
            ],
            [
             0.8888888888888888,
             "#fdca26"
            ],
            [
             1,
             "#f0f921"
            ]
           ]
          },
          "colorway": [
           "#636efa",
           "#EF553B",
           "#00cc96",
           "#ab63fa",
           "#FFA15A",
           "#19d3f3",
           "#FF6692",
           "#B6E880",
           "#FF97FF",
           "#FECB52"
          ],
          "font": {
           "color": "#2a3f5f"
          },
          "geo": {
           "bgcolor": "white",
           "lakecolor": "white",
           "landcolor": "#E5ECF6",
           "showlakes": true,
           "showland": true,
           "subunitcolor": "white"
          },
          "hoverlabel": {
           "align": "left"
          },
          "hovermode": "closest",
          "mapbox": {
           "style": "light"
          },
          "paper_bgcolor": "white",
          "plot_bgcolor": "#E5ECF6",
          "polar": {
           "angularaxis": {
            "gridcolor": "white",
            "linecolor": "white",
            "ticks": ""
           },
           "bgcolor": "#E5ECF6",
           "radialaxis": {
            "gridcolor": "white",
            "linecolor": "white",
            "ticks": ""
           }
          },
          "scene": {
           "xaxis": {
            "backgroundcolor": "#E5ECF6",
            "gridcolor": "white",
            "gridwidth": 2,
            "linecolor": "white",
            "showbackground": true,
            "ticks": "",
            "zerolinecolor": "white"
           },
           "yaxis": {
            "backgroundcolor": "#E5ECF6",
            "gridcolor": "white",
            "gridwidth": 2,
            "linecolor": "white",
            "showbackground": true,
            "ticks": "",
            "zerolinecolor": "white"
           },
           "zaxis": {
            "backgroundcolor": "#E5ECF6",
            "gridcolor": "white",
            "gridwidth": 2,
            "linecolor": "white",
            "showbackground": true,
            "ticks": "",
            "zerolinecolor": "white"
           }
          },
          "shapedefaults": {
           "line": {
            "color": "#2a3f5f"
           }
          },
          "ternary": {
           "aaxis": {
            "gridcolor": "white",
            "linecolor": "white",
            "ticks": ""
           },
           "baxis": {
            "gridcolor": "white",
            "linecolor": "white",
            "ticks": ""
           },
           "bgcolor": "#E5ECF6",
           "caxis": {
            "gridcolor": "white",
            "linecolor": "white",
            "ticks": ""
           }
          },
          "title": {
           "x": 0.05
          },
          "xaxis": {
           "automargin": true,
           "gridcolor": "white",
           "linecolor": "white",
           "ticks": "",
           "title": {
            "standoff": 15
           },
           "zerolinecolor": "white",
           "zerolinewidth": 2
          },
          "yaxis": {
           "automargin": true,
           "gridcolor": "white",
           "linecolor": "white",
           "ticks": "",
           "title": {
            "standoff": 15
           },
           "zerolinecolor": "white",
           "zerolinewidth": 2
          }
         }
        },
        "title": {
         "text": "Comparison of Inner and Outer Products for BLOCKSIZEs: 128, 256 and 512"
        },
        "xaxis": {
         "gridcolor": "#E0E0E0",
         "title": {
          "text": "Size"
         },
         "type": "log"
        },
        "yaxis": {
         "gridcolor": "#E0E0E0",
         "title": {
          "text": "Time (ms)"
         },
         "type": "log"
        }
       }
      }
     },
     "metadata": {},
     "output_type": "display_data"
    }
   ],
   "source": [
    "import plotly.graph_objects as go\n",
    "\n",
    "# Data for BLOCKSIZE 512\n",
    "size_512 = [16.0, 32.0, 64.0, 128.0, 256.0, 512.0]\n",
    "inner_product_512 = [0.107520, 0.399360, 1.728512, 8.396800, 35.883007, 182.931458]\n",
    "outer_product_512 = [1.270784, 2.404352, 4.672512, 9.216000, 18.354176, 36.707329]\n",
    "\n",
    "# Data for BLOCKSIZE 256\n",
    "size_256 = [16.0, 32.0, 64.0, 128.0, 256.0]\n",
    "inner_product_256 = [0.093184, 0.354304, 1.546240, 6.205440, 34.075649]\n",
    "outer_product_256 = [0.261120, 0.491520, 0.954368, 1.888256, 3.825664]\n",
    "\n",
    "# Data for BLOCKSIZE 128\n",
    "size_128 = [16.0, 32.0, 64.0, 128.0]\n",
    "inner_product_128 = [0.088064, 0.349184, 1.356800, 6.077440]\n",
    "outer_product_128 = [0.025600, 0.036864, 0.062464, 0.114688]\n",
    "\n",
    "# Create the figure\n",
    "fig = go.Figure()\n",
    "\n",
    "# Add traces for BLOCKSIZE 512\n",
    "fig.add_trace(go.Scatter(x=size_512, y=inner_product_512,\n",
    "                         mode='lines+markers',\n",
    "                         name='Inner Product (BLOCKSIZE 512)',\n",
    "                         line=dict(color='#4A90C0')))\n",
    "fig.add_trace(go.Scatter(x=size_512, y=outer_product_512,\n",
    "                         mode='lines+markers',\n",
    "                         name='Outer Product (BLOCKSIZE 512)',\n",
    "                         line=dict(color='#FFA54F')))\n",
    "\n",
    "# Add traces for BLOCKSIZE 256\n",
    "fig.add_trace(go.Scatter(x=size_256, y=inner_product_256,\n",
    "                         mode='lines+markers',\n",
    "                         name='Inner Product (BLOCKSIZE 256)',\n",
    "                         line=dict(color='#9370DB')))\n",
    "fig.add_trace(go.Scatter(x=size_256, y=outer_product_256,\n",
    "                         mode='lines+markers',\n",
    "                         name='Outer Product (BLOCKSIZE 256)',\n",
    "                         line=dict(color='#66CDAA')))\n",
    "\n",
    "# Add traces for BLOCKSIZE 128\n",
    "fig.add_trace(go.Scatter(x=size_128, y=inner_product_128,\n",
    "                         mode='lines+markers',\n",
    "                         name='Inner Product (BLOCKSIZE 128)',\n",
    "                         line=dict(color='#CD5C5C')))\n",
    "fig.add_trace(go.Scatter(x=size_128, y=outer_product_128,\n",
    "                         mode='lines+markers',\n",
    "                         name='Outer Product (BLOCKSIZE 128)',\n",
    "                         line=dict(color='#FFA54F', dash='dash'))) # Different line style for distinction\n",
    "\n",
    "# Update layout\n",
    "fig.update_layout(\n",
    "    title=\"Comparison of Inner and Outer Products for BLOCKSIZEs: 128, 256 and 512\",\n",
    "    xaxis=dict(\n",
    "        title=\"Size\",\n",
    "        type=\"log\",\n",
    "        gridcolor=\"#E0E0E0\"\n",
    "    ),\n",
    "    yaxis=dict(\n",
    "        title=\"Time (ms)\",\n",
    "        type=\"log\",\n",
    "        gridcolor=\"#E0E0E0\"\n",
    "    ),\n",
    "    plot_bgcolor=\"#FAF8F1\",\n",
    "    legend=dict(\n",
    "        bgcolor=\"#FAF8F1\"\n",
    "    )\n",
    ")\n",
    "\n",
    "# Show the figure\n",
    "fig.show()\n"
   ]
  },
  {
   "cell_type": "code",
   "execution_count": 5,
   "metadata": {},
   "outputs": [
    {
     "data": {
      "application/vnd.plotly.v1+json": {
       "config": {
        "plotlyServerURL": "https://plotly.com"
       },
       "data": [
        {
         "line": {
          "color": "#4A90C0"
         },
         "marker": {
          "symbol": "circle"
         },
         "mode": "lines+markers",
         "name": "Inner Product (512)",
         "type": "scatter",
         "x": [
          16,
          32,
          64,
          128,
          256,
          512
         ],
         "xaxis": "x",
         "y": [
          0.10752,
          0.39936,
          1.728512,
          8.3968,
          35.883007,
          182.931458
         ],
         "yaxis": "y"
        },
        {
         "line": {
          "color": "#CD5C5C"
         },
         "marker": {
          "symbol": "circle"
         },
         "mode": "lines+markers",
         "name": "Outer Product (512)",
         "type": "scatter",
         "x": [
          16,
          32,
          64,
          128,
          256,
          512
         ],
         "xaxis": "x2",
         "y": [
          1.270784,
          2.404352,
          4.672512,
          9.216,
          18.354176,
          36.707329
         ],
         "yaxis": "y2"
        },
        {
         "line": {
          "color": "#7FB3D5",
          "dash": "dot"
         },
         "marker": {
          "symbol": "square"
         },
         "mode": "lines+markers",
         "name": "Inner Product (256)",
         "type": "scatter",
         "x": [
          16,
          32,
          64,
          128,
          256
         ],
         "xaxis": "x",
         "y": [
          0.093184,
          0.354304,
          1.54624,
          6.20544,
          34.075649
         ],
         "yaxis": "y"
        },
        {
         "line": {
          "color": "#D67A7A",
          "dash": "dot"
         },
         "marker": {
          "symbol": "square"
         },
         "mode": "lines+markers",
         "name": "Outer Product (256)",
         "type": "scatter",
         "x": [
          16,
          32,
          64,
          128,
          256
         ],
         "xaxis": "x2",
         "y": [
          0.26112,
          0.49152,
          0.954368,
          1.888256,
          3.825664
         ],
         "yaxis": "y2"
        },
        {
         "line": {
          "color": "#AED6F1",
          "dash": "dash"
         },
         "marker": {
          "symbol": "diamond"
         },
         "mode": "lines+markers",
         "name": "Inner Product (128)",
         "type": "scatter",
         "x": [
          16,
          32,
          64,
          128
         ],
         "xaxis": "x",
         "y": [
          0.088064,
          0.349184,
          1.3568,
          6.07744
         ],
         "yaxis": "y"
        },
        {
         "line": {
          "color": "#E4A7A7",
          "dash": "dash"
         },
         "marker": {
          "symbol": "diamond"
         },
         "mode": "lines+markers",
         "name": "Outer Product (128)",
         "type": "scatter",
         "x": [
          16,
          32,
          64,
          128
         ],
         "xaxis": "x2",
         "y": [
          0.0256,
          0.036864,
          0.062464,
          0.114688
         ],
         "yaxis": "y2"
        }
       ],
       "layout": {
        "annotations": [
         {
          "font": {
           "size": 16
          },
          "showarrow": false,
          "text": "Inner Product Method",
          "x": 0.2375,
          "xanchor": "center",
          "xref": "paper",
          "y": 1,
          "yanchor": "bottom",
          "yref": "paper"
         },
         {
          "font": {
           "size": 16
          },
          "showarrow": false,
          "text": "Outer Product Method",
          "x": 0.7625,
          "xanchor": "center",
          "xref": "paper",
          "y": 1,
          "yanchor": "bottom",
          "yref": "paper"
         },
         {
          "font": {
           "size": 16
          },
          "showarrow": false,
          "text": "Size of matrix multiplied(M, N, O)",
          "x": 0.5,
          "xanchor": "center",
          "xref": "paper",
          "y": 0,
          "yanchor": "top",
          "yref": "paper",
          "yshift": -30
         }
        ],
        "font": {
         "color": "#7f7f7f",
         "family": "Open Sans"
        },
        "height": 400,
        "legend": {
         "bgcolor": "#FAF8F1",
         "font": {
          "size": 8
         },
         "x": 0.01,
         "y": 0.99
        },
        "margin": {
         "b": 60,
         "l": 40,
         "pad": 4,
         "r": 40,
         "t": 40
        },
        "paper_bgcolor": "#FAF8F1",
        "plot_bgcolor": "#FAF8F1",
        "template": {
         "data": {
          "bar": [
           {
            "error_x": {
             "color": "#2a3f5f"
            },
            "error_y": {
             "color": "#2a3f5f"
            },
            "marker": {
             "line": {
              "color": "#E5ECF6",
              "width": 0.5
             },
             "pattern": {
              "fillmode": "overlay",
              "size": 10,
              "solidity": 0.2
             }
            },
            "type": "bar"
           }
          ],
          "barpolar": [
           {
            "marker": {
             "line": {
              "color": "#E5ECF6",
              "width": 0.5
             },
             "pattern": {
              "fillmode": "overlay",
              "size": 10,
              "solidity": 0.2
             }
            },
            "type": "barpolar"
           }
          ],
          "carpet": [
           {
            "aaxis": {
             "endlinecolor": "#2a3f5f",
             "gridcolor": "white",
             "linecolor": "white",
             "minorgridcolor": "white",
             "startlinecolor": "#2a3f5f"
            },
            "baxis": {
             "endlinecolor": "#2a3f5f",
             "gridcolor": "white",
             "linecolor": "white",
             "minorgridcolor": "white",
             "startlinecolor": "#2a3f5f"
            },
            "type": "carpet"
           }
          ],
          "choropleth": [
           {
            "colorbar": {
             "outlinewidth": 0,
             "ticks": ""
            },
            "type": "choropleth"
           }
          ],
          "contour": [
           {
            "colorbar": {
             "outlinewidth": 0,
             "ticks": ""
            },
            "colorscale": [
             [
              0,
              "#0d0887"
             ],
             [
              0.1111111111111111,
              "#46039f"
             ],
             [
              0.2222222222222222,
              "#7201a8"
             ],
             [
              0.3333333333333333,
              "#9c179e"
             ],
             [
              0.4444444444444444,
              "#bd3786"
             ],
             [
              0.5555555555555556,
              "#d8576b"
             ],
             [
              0.6666666666666666,
              "#ed7953"
             ],
             [
              0.7777777777777778,
              "#fb9f3a"
             ],
             [
              0.8888888888888888,
              "#fdca26"
             ],
             [
              1,
              "#f0f921"
             ]
            ],
            "type": "contour"
           }
          ],
          "contourcarpet": [
           {
            "colorbar": {
             "outlinewidth": 0,
             "ticks": ""
            },
            "type": "contourcarpet"
           }
          ],
          "heatmap": [
           {
            "colorbar": {
             "outlinewidth": 0,
             "ticks": ""
            },
            "colorscale": [
             [
              0,
              "#0d0887"
             ],
             [
              0.1111111111111111,
              "#46039f"
             ],
             [
              0.2222222222222222,
              "#7201a8"
             ],
             [
              0.3333333333333333,
              "#9c179e"
             ],
             [
              0.4444444444444444,
              "#bd3786"
             ],
             [
              0.5555555555555556,
              "#d8576b"
             ],
             [
              0.6666666666666666,
              "#ed7953"
             ],
             [
              0.7777777777777778,
              "#fb9f3a"
             ],
             [
              0.8888888888888888,
              "#fdca26"
             ],
             [
              1,
              "#f0f921"
             ]
            ],
            "type": "heatmap"
           }
          ],
          "heatmapgl": [
           {
            "colorbar": {
             "outlinewidth": 0,
             "ticks": ""
            },
            "colorscale": [
             [
              0,
              "#0d0887"
             ],
             [
              0.1111111111111111,
              "#46039f"
             ],
             [
              0.2222222222222222,
              "#7201a8"
             ],
             [
              0.3333333333333333,
              "#9c179e"
             ],
             [
              0.4444444444444444,
              "#bd3786"
             ],
             [
              0.5555555555555556,
              "#d8576b"
             ],
             [
              0.6666666666666666,
              "#ed7953"
             ],
             [
              0.7777777777777778,
              "#fb9f3a"
             ],
             [
              0.8888888888888888,
              "#fdca26"
             ],
             [
              1,
              "#f0f921"
             ]
            ],
            "type": "heatmapgl"
           }
          ],
          "histogram": [
           {
            "marker": {
             "pattern": {
              "fillmode": "overlay",
              "size": 10,
              "solidity": 0.2
             }
            },
            "type": "histogram"
           }
          ],
          "histogram2d": [
           {
            "colorbar": {
             "outlinewidth": 0,
             "ticks": ""
            },
            "colorscale": [
             [
              0,
              "#0d0887"
             ],
             [
              0.1111111111111111,
              "#46039f"
             ],
             [
              0.2222222222222222,
              "#7201a8"
             ],
             [
              0.3333333333333333,
              "#9c179e"
             ],
             [
              0.4444444444444444,
              "#bd3786"
             ],
             [
              0.5555555555555556,
              "#d8576b"
             ],
             [
              0.6666666666666666,
              "#ed7953"
             ],
             [
              0.7777777777777778,
              "#fb9f3a"
             ],
             [
              0.8888888888888888,
              "#fdca26"
             ],
             [
              1,
              "#f0f921"
             ]
            ],
            "type": "histogram2d"
           }
          ],
          "histogram2dcontour": [
           {
            "colorbar": {
             "outlinewidth": 0,
             "ticks": ""
            },
            "colorscale": [
             [
              0,
              "#0d0887"
             ],
             [
              0.1111111111111111,
              "#46039f"
             ],
             [
              0.2222222222222222,
              "#7201a8"
             ],
             [
              0.3333333333333333,
              "#9c179e"
             ],
             [
              0.4444444444444444,
              "#bd3786"
             ],
             [
              0.5555555555555556,
              "#d8576b"
             ],
             [
              0.6666666666666666,
              "#ed7953"
             ],
             [
              0.7777777777777778,
              "#fb9f3a"
             ],
             [
              0.8888888888888888,
              "#fdca26"
             ],
             [
              1,
              "#f0f921"
             ]
            ],
            "type": "histogram2dcontour"
           }
          ],
          "mesh3d": [
           {
            "colorbar": {
             "outlinewidth": 0,
             "ticks": ""
            },
            "type": "mesh3d"
           }
          ],
          "parcoords": [
           {
            "line": {
             "colorbar": {
              "outlinewidth": 0,
              "ticks": ""
             }
            },
            "type": "parcoords"
           }
          ],
          "pie": [
           {
            "automargin": true,
            "type": "pie"
           }
          ],
          "scatter": [
           {
            "fillpattern": {
             "fillmode": "overlay",
             "size": 10,
             "solidity": 0.2
            },
            "type": "scatter"
           }
          ],
          "scatter3d": [
           {
            "line": {
             "colorbar": {
              "outlinewidth": 0,
              "ticks": ""
             }
            },
            "marker": {
             "colorbar": {
              "outlinewidth": 0,
              "ticks": ""
             }
            },
            "type": "scatter3d"
           }
          ],
          "scattercarpet": [
           {
            "marker": {
             "colorbar": {
              "outlinewidth": 0,
              "ticks": ""
             }
            },
            "type": "scattercarpet"
           }
          ],
          "scattergeo": [
           {
            "marker": {
             "colorbar": {
              "outlinewidth": 0,
              "ticks": ""
             }
            },
            "type": "scattergeo"
           }
          ],
          "scattergl": [
           {
            "marker": {
             "colorbar": {
              "outlinewidth": 0,
              "ticks": ""
             }
            },
            "type": "scattergl"
           }
          ],
          "scattermapbox": [
           {
            "marker": {
             "colorbar": {
              "outlinewidth": 0,
              "ticks": ""
             }
            },
            "type": "scattermapbox"
           }
          ],
          "scatterpolar": [
           {
            "marker": {
             "colorbar": {
              "outlinewidth": 0,
              "ticks": ""
             }
            },
            "type": "scatterpolar"
           }
          ],
          "scatterpolargl": [
           {
            "marker": {
             "colorbar": {
              "outlinewidth": 0,
              "ticks": ""
             }
            },
            "type": "scatterpolargl"
           }
          ],
          "scatterternary": [
           {
            "marker": {
             "colorbar": {
              "outlinewidth": 0,
              "ticks": ""
             }
            },
            "type": "scatterternary"
           }
          ],
          "surface": [
           {
            "colorbar": {
             "outlinewidth": 0,
             "ticks": ""
            },
            "colorscale": [
             [
              0,
              "#0d0887"
             ],
             [
              0.1111111111111111,
              "#46039f"
             ],
             [
              0.2222222222222222,
              "#7201a8"
             ],
             [
              0.3333333333333333,
              "#9c179e"
             ],
             [
              0.4444444444444444,
              "#bd3786"
             ],
             [
              0.5555555555555556,
              "#d8576b"
             ],
             [
              0.6666666666666666,
              "#ed7953"
             ],
             [
              0.7777777777777778,
              "#fb9f3a"
             ],
             [
              0.8888888888888888,
              "#fdca26"
             ],
             [
              1,
              "#f0f921"
             ]
            ],
            "type": "surface"
           }
          ],
          "table": [
           {
            "cells": {
             "fill": {
              "color": "#EBF0F8"
             },
             "line": {
              "color": "white"
             }
            },
            "header": {
             "fill": {
              "color": "#C8D4E3"
             },
             "line": {
              "color": "white"
             }
            },
            "type": "table"
           }
          ]
         },
         "layout": {
          "annotationdefaults": {
           "arrowcolor": "#2a3f5f",
           "arrowhead": 0,
           "arrowwidth": 1
          },
          "autotypenumbers": "strict",
          "coloraxis": {
           "colorbar": {
            "outlinewidth": 0,
            "ticks": ""
           }
          },
          "colorscale": {
           "diverging": [
            [
             0,
             "#8e0152"
            ],
            [
             0.1,
             "#c51b7d"
            ],
            [
             0.2,
             "#de77ae"
            ],
            [
             0.3,
             "#f1b6da"
            ],
            [
             0.4,
             "#fde0ef"
            ],
            [
             0.5,
             "#f7f7f7"
            ],
            [
             0.6,
             "#e6f5d0"
            ],
            [
             0.7,
             "#b8e186"
            ],
            [
             0.8,
             "#7fbc41"
            ],
            [
             0.9,
             "#4d9221"
            ],
            [
             1,
             "#276419"
            ]
           ],
           "sequential": [
            [
             0,
             "#0d0887"
            ],
            [
             0.1111111111111111,
             "#46039f"
            ],
            [
             0.2222222222222222,
             "#7201a8"
            ],
            [
             0.3333333333333333,
             "#9c179e"
            ],
            [
             0.4444444444444444,
             "#bd3786"
            ],
            [
             0.5555555555555556,
             "#d8576b"
            ],
            [
             0.6666666666666666,
             "#ed7953"
            ],
            [
             0.7777777777777778,
             "#fb9f3a"
            ],
            [
             0.8888888888888888,
             "#fdca26"
            ],
            [
             1,
             "#f0f921"
            ]
           ],
           "sequentialminus": [
            [
             0,
             "#0d0887"
            ],
            [
             0.1111111111111111,
             "#46039f"
            ],
            [
             0.2222222222222222,
             "#7201a8"
            ],
            [
             0.3333333333333333,
             "#9c179e"
            ],
            [
             0.4444444444444444,
             "#bd3786"
            ],
            [
             0.5555555555555556,
             "#d8576b"
            ],
            [
             0.6666666666666666,
             "#ed7953"
            ],
            [
             0.7777777777777778,
             "#fb9f3a"
            ],
            [
             0.8888888888888888,
             "#fdca26"
            ],
            [
             1,
             "#f0f921"
            ]
           ]
          },
          "colorway": [
           "#636efa",
           "#EF553B",
           "#00cc96",
           "#ab63fa",
           "#FFA15A",
           "#19d3f3",
           "#FF6692",
           "#B6E880",
           "#FF97FF",
           "#FECB52"
          ],
          "font": {
           "color": "#2a3f5f"
          },
          "geo": {
           "bgcolor": "white",
           "lakecolor": "white",
           "landcolor": "#E5ECF6",
           "showlakes": true,
           "showland": true,
           "subunitcolor": "white"
          },
          "hoverlabel": {
           "align": "left"
          },
          "hovermode": "closest",
          "mapbox": {
           "style": "light"
          },
          "paper_bgcolor": "white",
          "plot_bgcolor": "#E5ECF6",
          "polar": {
           "angularaxis": {
            "gridcolor": "white",
            "linecolor": "white",
            "ticks": ""
           },
           "bgcolor": "#E5ECF6",
           "radialaxis": {
            "gridcolor": "white",
            "linecolor": "white",
            "ticks": ""
           }
          },
          "scene": {
           "xaxis": {
            "backgroundcolor": "#E5ECF6",
            "gridcolor": "white",
            "gridwidth": 2,
            "linecolor": "white",
            "showbackground": true,
            "ticks": "",
            "zerolinecolor": "white"
           },
           "yaxis": {
            "backgroundcolor": "#E5ECF6",
            "gridcolor": "white",
            "gridwidth": 2,
            "linecolor": "white",
            "showbackground": true,
            "ticks": "",
            "zerolinecolor": "white"
           },
           "zaxis": {
            "backgroundcolor": "#E5ECF6",
            "gridcolor": "white",
            "gridwidth": 2,
            "linecolor": "white",
            "showbackground": true,
            "ticks": "",
            "zerolinecolor": "white"
           }
          },
          "shapedefaults": {
           "line": {
            "color": "#2a3f5f"
           }
          },
          "ternary": {
           "aaxis": {
            "gridcolor": "white",
            "linecolor": "white",
            "ticks": ""
           },
           "baxis": {
            "gridcolor": "white",
            "linecolor": "white",
            "ticks": ""
           },
           "bgcolor": "#E5ECF6",
           "caxis": {
            "gridcolor": "white",
            "linecolor": "white",
            "ticks": ""
           }
          },
          "title": {
           "x": 0.05
          },
          "xaxis": {
           "automargin": true,
           "gridcolor": "white",
           "linecolor": "white",
           "ticks": "",
           "title": {
            "standoff": 15
           },
           "zerolinecolor": "white",
           "zerolinewidth": 2
          },
          "yaxis": {
           "automargin": true,
           "gridcolor": "white",
           "linecolor": "white",
           "ticks": "",
           "title": {
            "standoff": 15
           },
           "zerolinecolor": "white",
           "zerolinewidth": 2
          }
         }
        },
        "width": 900,
        "xaxis": {
         "anchor": "y",
         "domain": [
          0,
          0.475
         ],
         "gridcolor": "#E0E0E0",
         "type": "log"
        },
        "xaxis2": {
         "anchor": "y2",
         "domain": [
          0.525,
          1
         ],
         "gridcolor": "#E0E0E0",
         "type": "log"
        },
        "yaxis": {
         "anchor": "x",
         "domain": [
          0,
          1
         ],
         "gridcolor": "#E0E0E0",
         "title": {
          "text": "Time (ms)"
         },
         "type": "log"
        },
        "yaxis2": {
         "anchor": "x2",
         "domain": [
          0,
          1
         ],
         "gridcolor": "#E0E0E0",
         "matches": "y",
         "showticklabels": false,
         "type": "log"
        }
       }
      }
     },
     "metadata": {},
     "output_type": "display_data"
    }
   ],
   "source": [
    "import plotly.graph_objects as go\n",
    "from plotly.subplots import make_subplots\n",
    "\n",
    "# Data remains the same...\n",
    "\n",
    "# Create the figure\n",
    "fig = make_subplots(rows=1, cols=2, shared_yaxes=True, column_titles=[\"Inner Product Method\", \"Outer Product Method\"], x_title=\"Size of matrix multiplied(M, N, O)\", horizontal_spacing=0.05)\n",
    "\n",
    "# Add traces for BLOCKSIZE 512\n",
    "fig.add_trace(go.Scatter(x=size_512, y=inner_product_512,\n",
    "                         mode='lines+markers',\n",
    "                         name='Inner Product (512)',\n",
    "                         line=dict(color='#4A90C0'),\n",
    "                         marker=dict(symbol='circle')),\n",
    "                         row=1, col=1)\n",
    "fig.add_trace(go.Scatter(x=size_512, y=outer_product_512,\n",
    "                         mode='lines+markers',\n",
    "                         name='Outer Product (512)',\n",
    "                         line=dict(color='#CD5C5C'),\n",
    "                         marker=dict(symbol='circle')),\n",
    "                         row=1, col=2)\n",
    "\n",
    "# Add traces for BLOCKSIZE 256 (lighter shades)\n",
    "fig.add_trace(go.Scatter(x=size_256, y=inner_product_256,\n",
    "                         mode='lines+markers',\n",
    "                         name='Inner Product (256)',\n",
    "                         line=dict(color='#7FB3D5', dash=\"dot\"),\n",
    "                         marker=dict(symbol='square')),\n",
    "                         row=1, col=1)\n",
    "fig.add_trace(go.Scatter(x=size_256, y=outer_product_256,\n",
    "                         mode='lines+markers',\n",
    "                         name='Outer Product (256)',\n",
    "                         line=dict(color='#D67A7A', dash=\"dot\"),\n",
    "                         marker=dict(symbol='square')),\n",
    "                         row=1, col=2)\n",
    "\n",
    "# Add traces for BLOCKSIZE 128 (lightest shades)\n",
    "fig.add_trace(go.Scatter(x=size_128, y=inner_product_128,\n",
    "                         mode='lines+markers',\n",
    "                         name='Inner Product (128)',\n",
    "                         line=dict(color='#AED6F1', dash=\"dash\"),\n",
    "                         marker=dict(symbol='diamond')),\n",
    "                         row=1, col=1)\n",
    "fig.add_trace(go.Scatter(x=size_128, y=outer_product_128,\n",
    "                         mode='lines+markers',\n",
    "                         name='Outer Product (128)',\n",
    "                         line=dict(color='#E4A7A7', dash=\"dash\"),\n",
    "                         marker=dict(symbol='diamond')),\n",
    "                         row=1, col=2)\n",
    "\n",
    "# Update layout\n",
    "fig.update_layout(\n",
    "    # title=\"Time vs Size of Matrix Multiplication for Different BLOCKSIZEs\",\n",
    "    width=900,\n",
    "    height=400,\n",
    "    margin=dict(l=40, r=40, b=60, t=40, pad=4),\n",
    "    font=dict(family=\"Open Sans\", color=\"#7f7f7f\"),\n",
    "    plot_bgcolor=\"#FAF8F1\",\n",
    "    paper_bgcolor=\"#FAF8F1\",\n",
    "    legend=dict(\n",
    "        bgcolor=\"#FAF8F1\",\n",
    "        x=0.01,\n",
    "        y=0.99,\n",
    "        font=dict(size=8)\n",
    "    )\n",
    ")\n",
    "\n",
    "# Update axes\n",
    "fig.update_xaxes( type=\"log\", gridcolor=\"#E0E0E0\", row=1, col=1)\n",
    "fig.update_xaxes( type=\"log\", gridcolor=\"#E0E0E0\", row=1, col=2)\n",
    "fig.update_yaxes(title=\"Time (ms)\", type=\"log\", gridcolor=\"#E0E0E0\", row=1, col=1)\n",
    "fig.update_yaxes(type=\"log\", gridcolor=\"#E0E0E0\", row=1, col=2)\n",
    "\n",
    "fig.show()\n"
   ]
  },
  {
   "cell_type": "code",
   "execution_count": 6,
   "metadata": {},
   "outputs": [],
   "source": [
    "fig.write_json(\"/Users/bhuvanesh.sridharan/Files/Exp/bhuv-website/bhuv-webpage/content/posts/a_small_realisation_about_matrix_multiplications/inner_outer_graph.json\", pretty=True)"
   ]
  },
  {
   "cell_type": "code",
   "execution_count": 49,
   "metadata": {},
   "outputs": [
    {
     "data": {
      "application/vnd.plotly.v1+json": {
       "config": {
        "plotlyServerURL": "https://plotly.com"
       },
       "data": [
        {
         "line": {
          "color": "#4A90C0",
          "dash": "dot"
         },
         "marker": {
          "symbol": "circle"
         },
         "mode": "lines+markers",
         "name": "Inner Product (512)",
         "type": "scatter",
         "x": [
          16,
          32,
          64,
          128,
          256,
          512
         ],
         "xaxis": "x",
         "y": [
          0.10752,
          0.39936,
          1.728512,
          8.3968,
          35.883007,
          182.931458
         ],
         "yaxis": "y"
        },
        {
         "line": {
          "color": "#CD5C5C",
          "dash": "dot"
         },
         "marker": {
          "symbol": "circle"
         },
         "mode": "lines+markers",
         "name": "Outer Product (512)",
         "type": "scatter",
         "x": [
          16,
          32,
          64,
          128,
          256,
          512
         ],
         "xaxis": "x",
         "y": [
          1.270784,
          2.404352,
          4.672512,
          9.216,
          18.354176,
          36.707329
         ],
         "yaxis": "y"
        },
        {
         "line": {
          "color": "#7FB3D5",
          "dash": "dot"
         },
         "marker": {
          "symbol": "square"
         },
         "mode": "lines+markers",
         "name": "Inner Product (256)",
         "type": "scatter",
         "x": [
          16,
          32,
          64,
          128,
          256
         ],
         "xaxis": "x2",
         "y": [
          0.093184,
          0.354304,
          1.54624,
          6.20544,
          34.075649
         ],
         "yaxis": "y2"
        },
        {
         "line": {
          "color": "#D67A7A",
          "dash": "dot"
         },
         "marker": {
          "symbol": "square"
         },
         "mode": "lines+markers",
         "name": "Outer Product (256)",
         "type": "scatter",
         "x": [
          16,
          32,
          64,
          128,
          256
         ],
         "xaxis": "x2",
         "y": [
          0.26112,
          0.49152,
          0.954368,
          1.888256,
          3.825664
         ],
         "yaxis": "y2"
        },
        {
         "line": {
          "color": "#AED6F1",
          "dash": "dot"
         },
         "marker": {
          "symbol": "diamond"
         },
         "mode": "lines+markers",
         "name": "Inner Product (128)",
         "type": "scatter",
         "x": [
          16,
          32,
          64,
          128
         ],
         "xaxis": "x3",
         "y": [
          0.088064,
          0.349184,
          1.3568,
          6.07744
         ],
         "yaxis": "y3"
        },
        {
         "line": {
          "color": "#E4A7A7",
          "dash": "dot"
         },
         "marker": {
          "symbol": "diamond"
         },
         "mode": "lines+markers",
         "name": "Outer Product (128)",
         "type": "scatter",
         "x": [
          16,
          32,
          64,
          128
         ],
         "xaxis": "x3",
         "y": [
          0.0256,
          0.036864,
          0.062464,
          0.114688
         ],
         "yaxis": "y3"
        }
       ],
       "layout": {
        "annotations": [
         {
          "font": {
           "size": 16
          },
          "showarrow": false,
          "text": "BLOCKSIZE 512",
          "textangle": 90,
          "x": 0.98,
          "xanchor": "left",
          "xref": "paper",
          "y": 0.8400000000000001,
          "yanchor": "middle",
          "yref": "paper"
         },
         {
          "font": {
           "size": 16
          },
          "showarrow": false,
          "text": "BLOCKSIZE 256",
          "textangle": 90,
          "x": 0.98,
          "xanchor": "left",
          "xref": "paper",
          "y": 0.5,
          "yanchor": "middle",
          "yref": "paper"
         },
         {
          "font": {
           "size": 16
          },
          "showarrow": false,
          "text": "BLOCKSIZE 128",
          "textangle": 90,
          "x": 0.98,
          "xanchor": "left",
          "xref": "paper",
          "y": 0.16,
          "yanchor": "middle",
          "yref": "paper"
         },
         {
          "font": {
           "size": 16
          },
          "showarrow": false,
          "text": "Size of matrix multiplied (M, N, O)",
          "x": 0.49,
          "xanchor": "center",
          "xref": "paper",
          "y": 0,
          "yanchor": "top",
          "yref": "paper",
          "yshift": -30
         }
        ],
        "font": {
         "color": "#7f7f7f",
         "family": "Open Sans"
        },
        "height": 900,
        "legend": {
         "bgcolor": "#FAF8F1",
         "font": {
          "size": 8
         },
         "x": 0.01,
         "y": 0.99
        },
        "margin": {
         "b": 60,
         "l": 40,
         "pad": 4,
         "r": 40,
         "t": 40
        },
        "paper_bgcolor": "#FAF8F1",
        "plot_bgcolor": "#FAF8F1",
        "template": {
         "data": {
          "bar": [
           {
            "error_x": {
             "color": "#2a3f5f"
            },
            "error_y": {
             "color": "#2a3f5f"
            },
            "marker": {
             "line": {
              "color": "#E5ECF6",
              "width": 0.5
             },
             "pattern": {
              "fillmode": "overlay",
              "size": 10,
              "solidity": 0.2
             }
            },
            "type": "bar"
           }
          ],
          "barpolar": [
           {
            "marker": {
             "line": {
              "color": "#E5ECF6",
              "width": 0.5
             },
             "pattern": {
              "fillmode": "overlay",
              "size": 10,
              "solidity": 0.2
             }
            },
            "type": "barpolar"
           }
          ],
          "carpet": [
           {
            "aaxis": {
             "endlinecolor": "#2a3f5f",
             "gridcolor": "white",
             "linecolor": "white",
             "minorgridcolor": "white",
             "startlinecolor": "#2a3f5f"
            },
            "baxis": {
             "endlinecolor": "#2a3f5f",
             "gridcolor": "white",
             "linecolor": "white",
             "minorgridcolor": "white",
             "startlinecolor": "#2a3f5f"
            },
            "type": "carpet"
           }
          ],
          "choropleth": [
           {
            "colorbar": {
             "outlinewidth": 0,
             "ticks": ""
            },
            "type": "choropleth"
           }
          ],
          "contour": [
           {
            "colorbar": {
             "outlinewidth": 0,
             "ticks": ""
            },
            "colorscale": [
             [
              0,
              "#0d0887"
             ],
             [
              0.1111111111111111,
              "#46039f"
             ],
             [
              0.2222222222222222,
              "#7201a8"
             ],
             [
              0.3333333333333333,
              "#9c179e"
             ],
             [
              0.4444444444444444,
              "#bd3786"
             ],
             [
              0.5555555555555556,
              "#d8576b"
             ],
             [
              0.6666666666666666,
              "#ed7953"
             ],
             [
              0.7777777777777778,
              "#fb9f3a"
             ],
             [
              0.8888888888888888,
              "#fdca26"
             ],
             [
              1,
              "#f0f921"
             ]
            ],
            "type": "contour"
           }
          ],
          "contourcarpet": [
           {
            "colorbar": {
             "outlinewidth": 0,
             "ticks": ""
            },
            "type": "contourcarpet"
           }
          ],
          "heatmap": [
           {
            "colorbar": {
             "outlinewidth": 0,
             "ticks": ""
            },
            "colorscale": [
             [
              0,
              "#0d0887"
             ],
             [
              0.1111111111111111,
              "#46039f"
             ],
             [
              0.2222222222222222,
              "#7201a8"
             ],
             [
              0.3333333333333333,
              "#9c179e"
             ],
             [
              0.4444444444444444,
              "#bd3786"
             ],
             [
              0.5555555555555556,
              "#d8576b"
             ],
             [
              0.6666666666666666,
              "#ed7953"
             ],
             [
              0.7777777777777778,
              "#fb9f3a"
             ],
             [
              0.8888888888888888,
              "#fdca26"
             ],
             [
              1,
              "#f0f921"
             ]
            ],
            "type": "heatmap"
           }
          ],
          "heatmapgl": [
           {
            "colorbar": {
             "outlinewidth": 0,
             "ticks": ""
            },
            "colorscale": [
             [
              0,
              "#0d0887"
             ],
             [
              0.1111111111111111,
              "#46039f"
             ],
             [
              0.2222222222222222,
              "#7201a8"
             ],
             [
              0.3333333333333333,
              "#9c179e"
             ],
             [
              0.4444444444444444,
              "#bd3786"
             ],
             [
              0.5555555555555556,
              "#d8576b"
             ],
             [
              0.6666666666666666,
              "#ed7953"
             ],
             [
              0.7777777777777778,
              "#fb9f3a"
             ],
             [
              0.8888888888888888,
              "#fdca26"
             ],
             [
              1,
              "#f0f921"
             ]
            ],
            "type": "heatmapgl"
           }
          ],
          "histogram": [
           {
            "marker": {
             "pattern": {
              "fillmode": "overlay",
              "size": 10,
              "solidity": 0.2
             }
            },
            "type": "histogram"
           }
          ],
          "histogram2d": [
           {
            "colorbar": {
             "outlinewidth": 0,
             "ticks": ""
            },
            "colorscale": [
             [
              0,
              "#0d0887"
             ],
             [
              0.1111111111111111,
              "#46039f"
             ],
             [
              0.2222222222222222,
              "#7201a8"
             ],
             [
              0.3333333333333333,
              "#9c179e"
             ],
             [
              0.4444444444444444,
              "#bd3786"
             ],
             [
              0.5555555555555556,
              "#d8576b"
             ],
             [
              0.6666666666666666,
              "#ed7953"
             ],
             [
              0.7777777777777778,
              "#fb9f3a"
             ],
             [
              0.8888888888888888,
              "#fdca26"
             ],
             [
              1,
              "#f0f921"
             ]
            ],
            "type": "histogram2d"
           }
          ],
          "histogram2dcontour": [
           {
            "colorbar": {
             "outlinewidth": 0,
             "ticks": ""
            },
            "colorscale": [
             [
              0,
              "#0d0887"
             ],
             [
              0.1111111111111111,
              "#46039f"
             ],
             [
              0.2222222222222222,
              "#7201a8"
             ],
             [
              0.3333333333333333,
              "#9c179e"
             ],
             [
              0.4444444444444444,
              "#bd3786"
             ],
             [
              0.5555555555555556,
              "#d8576b"
             ],
             [
              0.6666666666666666,
              "#ed7953"
             ],
             [
              0.7777777777777778,
              "#fb9f3a"
             ],
             [
              0.8888888888888888,
              "#fdca26"
             ],
             [
              1,
              "#f0f921"
             ]
            ],
            "type": "histogram2dcontour"
           }
          ],
          "mesh3d": [
           {
            "colorbar": {
             "outlinewidth": 0,
             "ticks": ""
            },
            "type": "mesh3d"
           }
          ],
          "parcoords": [
           {
            "line": {
             "colorbar": {
              "outlinewidth": 0,
              "ticks": ""
             }
            },
            "type": "parcoords"
           }
          ],
          "pie": [
           {
            "automargin": true,
            "type": "pie"
           }
          ],
          "scatter": [
           {
            "fillpattern": {
             "fillmode": "overlay",
             "size": 10,
             "solidity": 0.2
            },
            "type": "scatter"
           }
          ],
          "scatter3d": [
           {
            "line": {
             "colorbar": {
              "outlinewidth": 0,
              "ticks": ""
             }
            },
            "marker": {
             "colorbar": {
              "outlinewidth": 0,
              "ticks": ""
             }
            },
            "type": "scatter3d"
           }
          ],
          "scattercarpet": [
           {
            "marker": {
             "colorbar": {
              "outlinewidth": 0,
              "ticks": ""
             }
            },
            "type": "scattercarpet"
           }
          ],
          "scattergeo": [
           {
            "marker": {
             "colorbar": {
              "outlinewidth": 0,
              "ticks": ""
             }
            },
            "type": "scattergeo"
           }
          ],
          "scattergl": [
           {
            "marker": {
             "colorbar": {
              "outlinewidth": 0,
              "ticks": ""
             }
            },
            "type": "scattergl"
           }
          ],
          "scattermapbox": [
           {
            "marker": {
             "colorbar": {
              "outlinewidth": 0,
              "ticks": ""
             }
            },
            "type": "scattermapbox"
           }
          ],
          "scatterpolar": [
           {
            "marker": {
             "colorbar": {
              "outlinewidth": 0,
              "ticks": ""
             }
            },
            "type": "scatterpolar"
           }
          ],
          "scatterpolargl": [
           {
            "marker": {
             "colorbar": {
              "outlinewidth": 0,
              "ticks": ""
             }
            },
            "type": "scatterpolargl"
           }
          ],
          "scatterternary": [
           {
            "marker": {
             "colorbar": {
              "outlinewidth": 0,
              "ticks": ""
             }
            },
            "type": "scatterternary"
           }
          ],
          "surface": [
           {
            "colorbar": {
             "outlinewidth": 0,
             "ticks": ""
            },
            "colorscale": [
             [
              0,
              "#0d0887"
             ],
             [
              0.1111111111111111,
              "#46039f"
             ],
             [
              0.2222222222222222,
              "#7201a8"
             ],
             [
              0.3333333333333333,
              "#9c179e"
             ],
             [
              0.4444444444444444,
              "#bd3786"
             ],
             [
              0.5555555555555556,
              "#d8576b"
             ],
             [
              0.6666666666666666,
              "#ed7953"
             ],
             [
              0.7777777777777778,
              "#fb9f3a"
             ],
             [
              0.8888888888888888,
              "#fdca26"
             ],
             [
              1,
              "#f0f921"
             ]
            ],
            "type": "surface"
           }
          ],
          "table": [
           {
            "cells": {
             "fill": {
              "color": "#EBF0F8"
             },
             "line": {
              "color": "white"
             }
            },
            "header": {
             "fill": {
              "color": "#C8D4E3"
             },
             "line": {
              "color": "white"
             }
            },
            "type": "table"
           }
          ]
         },
         "layout": {
          "annotationdefaults": {
           "arrowcolor": "#2a3f5f",
           "arrowhead": 0,
           "arrowwidth": 1
          },
          "autotypenumbers": "strict",
          "coloraxis": {
           "colorbar": {
            "outlinewidth": 0,
            "ticks": ""
           }
          },
          "colorscale": {
           "diverging": [
            [
             0,
             "#8e0152"
            ],
            [
             0.1,
             "#c51b7d"
            ],
            [
             0.2,
             "#de77ae"
            ],
            [
             0.3,
             "#f1b6da"
            ],
            [
             0.4,
             "#fde0ef"
            ],
            [
             0.5,
             "#f7f7f7"
            ],
            [
             0.6,
             "#e6f5d0"
            ],
            [
             0.7,
             "#b8e186"
            ],
            [
             0.8,
             "#7fbc41"
            ],
            [
             0.9,
             "#4d9221"
            ],
            [
             1,
             "#276419"
            ]
           ],
           "sequential": [
            [
             0,
             "#0d0887"
            ],
            [
             0.1111111111111111,
             "#46039f"
            ],
            [
             0.2222222222222222,
             "#7201a8"
            ],
            [
             0.3333333333333333,
             "#9c179e"
            ],
            [
             0.4444444444444444,
             "#bd3786"
            ],
            [
             0.5555555555555556,
             "#d8576b"
            ],
            [
             0.6666666666666666,
             "#ed7953"
            ],
            [
             0.7777777777777778,
             "#fb9f3a"
            ],
            [
             0.8888888888888888,
             "#fdca26"
            ],
            [
             1,
             "#f0f921"
            ]
           ],
           "sequentialminus": [
            [
             0,
             "#0d0887"
            ],
            [
             0.1111111111111111,
             "#46039f"
            ],
            [
             0.2222222222222222,
             "#7201a8"
            ],
            [
             0.3333333333333333,
             "#9c179e"
            ],
            [
             0.4444444444444444,
             "#bd3786"
            ],
            [
             0.5555555555555556,
             "#d8576b"
            ],
            [
             0.6666666666666666,
             "#ed7953"
            ],
            [
             0.7777777777777778,
             "#fb9f3a"
            ],
            [
             0.8888888888888888,
             "#fdca26"
            ],
            [
             1,
             "#f0f921"
            ]
           ]
          },
          "colorway": [
           "#636efa",
           "#EF553B",
           "#00cc96",
           "#ab63fa",
           "#FFA15A",
           "#19d3f3",
           "#FF6692",
           "#B6E880",
           "#FF97FF",
           "#FECB52"
          ],
          "font": {
           "color": "#2a3f5f"
          },
          "geo": {
           "bgcolor": "white",
           "lakecolor": "white",
           "landcolor": "#E5ECF6",
           "showlakes": true,
           "showland": true,
           "subunitcolor": "white"
          },
          "hoverlabel": {
           "align": "left"
          },
          "hovermode": "closest",
          "mapbox": {
           "style": "light"
          },
          "paper_bgcolor": "white",
          "plot_bgcolor": "#E5ECF6",
          "polar": {
           "angularaxis": {
            "gridcolor": "white",
            "linecolor": "white",
            "ticks": ""
           },
           "bgcolor": "#E5ECF6",
           "radialaxis": {
            "gridcolor": "white",
            "linecolor": "white",
            "ticks": ""
           }
          },
          "scene": {
           "xaxis": {
            "backgroundcolor": "#E5ECF6",
            "gridcolor": "white",
            "gridwidth": 2,
            "linecolor": "white",
            "showbackground": true,
            "ticks": "",
            "zerolinecolor": "white"
           },
           "yaxis": {
            "backgroundcolor": "#E5ECF6",
            "gridcolor": "white",
            "gridwidth": 2,
            "linecolor": "white",
            "showbackground": true,
            "ticks": "",
            "zerolinecolor": "white"
           },
           "zaxis": {
            "backgroundcolor": "#E5ECF6",
            "gridcolor": "white",
            "gridwidth": 2,
            "linecolor": "white",
            "showbackground": true,
            "ticks": "",
            "zerolinecolor": "white"
           }
          },
          "shapedefaults": {
           "line": {
            "color": "#2a3f5f"
           }
          },
          "ternary": {
           "aaxis": {
            "gridcolor": "white",
            "linecolor": "white",
            "ticks": ""
           },
           "baxis": {
            "gridcolor": "white",
            "linecolor": "white",
            "ticks": ""
           },
           "bgcolor": "#E5ECF6",
           "caxis": {
            "gridcolor": "white",
            "linecolor": "white",
            "ticks": ""
           }
          },
          "title": {
           "x": 0.05
          },
          "xaxis": {
           "automargin": true,
           "gridcolor": "white",
           "linecolor": "white",
           "ticks": "",
           "title": {
            "standoff": 15
           },
           "zerolinecolor": "white",
           "zerolinewidth": 2
          },
          "yaxis": {
           "automargin": true,
           "gridcolor": "white",
           "linecolor": "white",
           "ticks": "",
           "title": {
            "standoff": 15
           },
           "zerolinecolor": "white",
           "zerolinewidth": 2
          }
         }
        },
        "width": 700,
        "xaxis": {
         "anchor": "y",
         "domain": [
          0,
          0.98
         ],
         "gridcolor": "#E0E0E0",
         "matches": "x3",
         "showticklabels": false,
         "type": "log"
        },
        "xaxis2": {
         "anchor": "y2",
         "domain": [
          0,
          0.98
         ],
         "gridcolor": "#E0E0E0",
         "matches": "x3",
         "showticklabels": false,
         "type": "log"
        },
        "xaxis3": {
         "anchor": "y3",
         "domain": [
          0,
          0.98
         ],
         "gridcolor": "#E0E0E0",
         "type": "log"
        },
        "yaxis": {
         "anchor": "x",
         "domain": [
          0.68,
          1
         ],
         "gridcolor": "#E0E0E0",
         "title": {
          "text": "Time (ms)"
         },
         "type": "log"
        },
        "yaxis2": {
         "anchor": "x2",
         "domain": [
          0.34,
          0.66
         ],
         "gridcolor": "#E0E0E0",
         "title": {
          "text": "Time (ms)"
         },
         "type": "log"
        },
        "yaxis3": {
         "anchor": "x3",
         "domain": [
          0,
          0.32
         ],
         "gridcolor": "#E0E0E0",
         "title": {
          "text": "Time (ms)"
         },
         "type": "log"
        }
       }
      }
     },
     "metadata": {},
     "output_type": "display_data"
    }
   ],
   "source": [
    "import plotly.graph_objects as go\n",
    "from plotly.subplots import make_subplots\n",
    "\n",
    "# Data remains the same...\n",
    "\n",
    "# Create the figure\n",
    "fig = make_subplots(rows=3, cols=1, shared_xaxes=True, \n",
    "                    row_titles=[\"BLOCKSIZE 512\", \"BLOCKSIZE 256\", \"BLOCKSIZE 128\"],\n",
    "                    x_title=\"Size of matrix multiplied (M, N, O)\", vertical_spacing=0.02)\n",
    "\n",
    "# Add traces for BLOCKSIZE 512\n",
    "fig.add_trace(go.Scatter(x=size_512, y=inner_product_512,\n",
    "                         mode='lines+markers',\n",
    "                         name='Inner Product (512)',\n",
    "                         line=dict(color='#4A90C0', dash='dot'),\n",
    "                         marker=dict(symbol='circle')),\n",
    "                         row=1, col=1)\n",
    "fig.add_trace(go.Scatter(x=size_512, y=outer_product_512,\n",
    "                         mode='lines+markers',\n",
    "                         name='Outer Product (512)',\n",
    "                         line=dict(color='#CD5C5C', dash='dot'),\n",
    "                         marker=dict(symbol='circle')),\n",
    "                         row=1, col=1)\n",
    "\n",
    "# Add traces for BLOCKSIZE 256\n",
    "fig.add_trace(go.Scatter(x=size_256, y=inner_product_256,\n",
    "                         mode='lines+markers',\n",
    "                         name='Inner Product (256)',\n",
    "                         line=dict(color='#7FB3D5', dash='dot'),\n",
    "                         marker=dict(symbol='square')),\n",
    "                         row=2, col=1)\n",
    "fig.add_trace(go.Scatter(x=size_256, y=outer_product_256,\n",
    "                         mode='lines+markers',\n",
    "                         name='Outer Product (256)',\n",
    "                         line=dict(color='#D67A7A', dash='dot'),\n",
    "                         marker=dict(symbol='square')),\n",
    "                         row=2, col=1)\n",
    "\n",
    "# Add traces for BLOCKSIZE 128\n",
    "fig.add_trace(go.Scatter(x=size_128, y=inner_product_128,\n",
    "                         mode='lines+markers',\n",
    "                         name='Inner Product (128)',\n",
    "                         line=dict(color='#AED6F1', dash='dot'),\n",
    "                         marker=dict(symbol='diamond')),\n",
    "                         row=3, col=1)\n",
    "fig.add_trace(go.Scatter(x=size_128, y=outer_product_128,\n",
    "                         mode='lines+markers',\n",
    "                         name='Outer Product (128)',\n",
    "                         line=dict(color='#E4A7A7', dash='dot'),\n",
    "                         marker=dict(symbol='diamond')),\n",
    "                         row=3, col=1)\n",
    "\n",
    "# Update layout\n",
    "fig.update_layout(\n",
    "    width=700,\n",
    "    height=900,\n",
    "    margin=dict(l=40, r=40, b=60, t=40, pad=4),\n",
    "    font=dict(family=\"Open Sans\", color=\"#7f7f7f\"),\n",
    "    plot_bgcolor=\"#FAF8F1\",\n",
    "    paper_bgcolor=\"#FAF8F1\",\n",
    "    legend=dict(\n",
    "        bgcolor=\"#FAF8F1\",\n",
    "        x=0.01,\n",
    "        y=0.99,\n",
    "        font=dict(size=8)\n",
    "    )\n",
    ")\n",
    "\n",
    "# Update axes\n",
    "fig.update_xaxes(type=\"log\", gridcolor=\"#E0E0E0\")\n",
    "fig.update_yaxes(title=\"Time (ms)\", type=\"log\", gridcolor=\"#E0E0E0\")\n",
    "\n",
    "fig.show()\n"
   ]
  },
  {
   "cell_type": "code",
   "execution_count": null,
   "metadata": {},
   "outputs": [],
   "source": []
  },
  {
   "cell_type": "code",
   "execution_count": 53,
   "metadata": {},
   "outputs": [],
   "source": [
    "fig.write_json(\"/Users/bhuvanesh.sridharan/Files/Exp/bhuv-website/bhuv-webpage/content/posts/a_small_realisation_about_matrix_multiplications/blockwise_graph.json\")"
   ]
  }
 ],
 "metadata": {
  "kernelspec": {
   "display_name": "manimenv",
   "language": "python",
   "name": "python3"
  },
  "language_info": {
   "codemirror_mode": {
    "name": "ipython",
    "version": 3
   },
   "file_extension": ".py",
   "mimetype": "text/x-python",
   "name": "python",
   "nbconvert_exporter": "python",
   "pygments_lexer": "ipython3",
   "version": "3.10.14"
  }
 },
 "nbformat": 4,
 "nbformat_minor": 2
}
